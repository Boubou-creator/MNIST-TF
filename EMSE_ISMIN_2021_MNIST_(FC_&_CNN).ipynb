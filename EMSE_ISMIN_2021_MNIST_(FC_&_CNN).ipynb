{
  "nbformat": 4,
  "nbformat_minor": 0,
  "metadata": {
    "colab": {
      "name": "EMSE ISMIN 2021 - MNIST (FC & CNN).ipynb",
      "private_outputs": true,
      "provenance": [],
      "collapsed_sections": []
    },
    "kernelspec": {
      "name": "python3",
      "display_name": "Python 3"
    },
    "accelerator": "GPU"
  },
  "cells": [
    {
      "cell_type": "code",
      "metadata": {
        "id": "R_gClCjuC4Po"
      },
      "source": [
        "import tensorflow as tf\n",
        "\n",
        "(x_train, y_train), (x_test, y_test) = tf.keras.datasets.mnist.load_data()"
      ],
      "execution_count": null,
      "outputs": []
    },
    {
      "cell_type": "code",
      "metadata": {
        "id": "uljV8FMNDMKk"
      },
      "source": [
        "# Type of training set (x and y)\n",
        "print('Type of x_train:', type(x_train))\n",
        "print('Type of y_train:', type(y_train))"
      ],
      "execution_count": null,
      "outputs": []
    },
    {
      "cell_type": "code",
      "metadata": {
        "id": "N99pUiimDc9o"
      },
      "source": [
        "# Shape of training set (x and y)\n",
        "print('Shape of x_train:', x_train.shape)\n",
        "print('Shape of y_train:', y_train.shape)"
      ],
      "execution_count": null,
      "outputs": []
    },
    {
      "cell_type": "code",
      "metadata": {
        "id": "FCzk6rHtF1cp"
      },
      "source": [
        "from matplotlib import pyplot as plt\n",
        "import numpy as np"
      ],
      "execution_count": null,
      "outputs": []
    },
    {
      "cell_type": "code",
      "metadata": {
        "id": "ybO-uBWJD1Wz"
      },
      "source": [
        "# Plot images from training set\n",
        "rndperm = np.random.permutation(x_train.shape[0])\n",
        "# rndperm = np.arange(12)\n",
        "nbimgx, nbimgy = 4, 3\n",
        "plt.figure()\n",
        "for i in range(nbimgx * nbimgy):\n",
        "    plt.subplot(nbimgy, nbimgx, i + 1)\n",
        "    plt.tick_params(which='both',\n",
        "                    bottom=False, left=False,\n",
        "                    labelbottom=False, labelleft=False)\n",
        "    plt.imshow(x_train[rndperm[i]])\n",
        "plt.show()\n",
        "print('Associated labels:', y_train[rndperm[0:nbimgx * nbimgy]])"
      ],
      "execution_count": null,
      "outputs": []
    },
    {
      "cell_type": "code",
      "metadata": {
        "id": "SJ7bm8g_W0nt"
      },
      "source": [
        "#creat model Auto-Encoder\r\n",
        "lin = tf.keras.layers.Input((28,28,1))\r\n",
        "lact = lin\r\n",
        "lact = tf.keras.layers.ZeroPadding2D(1)(lact)  #(30,30,1)\r\n",
        "lact = tf.keras.layers.Conv2D(64,3, activation='relu')(lact) #(28,28,64)\r\n",
        "#lact = tf.keras.layers.Conv2D(64,3, use_bias=False)(lact)\r\n",
        "#lact = tf.keras.layers.BatchNormalisation()(lact)\r\n",
        "#lact = tf.keras.layers.Activation(relu)(lact)\r\n",
        "lact = tf.keras.layers.AvgPool2D(2)(lact) #(14,14,64)\r\n",
        "\r\n",
        "lact = tf.keras.layers.Conv2D(32,3, activation='relu')(lact) #(12,12,32)\r\n",
        "lact = tf.keras.layers.AvgPool2D(2)(lact)#(6,6,32)\r\n",
        "\r\n",
        "lact = tf.keras.layers.Conv2D(32,3, activation='relu')(lact) #(4,4,32)\r\n",
        "lact = tf.keras.layers.AvgPool2D(2)(lact)#(2,2,32)\r\n",
        "\r\n",
        "lact = tf.keras.layers.Conv2D(16,2, activation='relu')(lact) #(1,1,16)\r\n",
        "\r\n",
        "lact = tf.keras.layers.Conv2DTranspose(32,2,activation='relu')(lact)\r\n",
        "\r\n",
        "lact = tf.keras.layers.UpSampling2D(2)(lact)\r\n",
        "lact = tf.keras.layers.Conv2DTranspose(32,3,activation='relu')(lact)\r\n",
        "\r\n",
        "lact = tf.keras.layers.UpSampling2D(2)(lact)\r\n",
        "lact = tf.keras.layers.Conv2DTranspose(64,3,activation='relu')(lact)\r\n",
        "\r\n",
        "lact = tf.keras.layers.UpSampling2D(2)(lact)\r\n",
        "lact = tf.keras.layers.Conv2DTranspose(1,1,activation='relu')(lact)\r\n",
        "\r\n",
        "lout = tf.keras.layers.Activation('tanh')(lact)\r\n",
        "model_ae = tf.keras.models.Model(lin,lout)\r\n",
        "model_ae.summary()"
      ],
      "execution_count": null,
      "outputs": []
    },
    {
      "cell_type": "code",
      "metadata": {
        "id": "gee0t8APFfIf"
      },
      "source": [
        "unique, count = np.unique(np.max(x_train, axis=(1, 2)), return_counts=True)\n",
        "print('Max. per image:', unique, '| Count:', count)\n",
        "unique, count = np.unique(np.min(x_train, axis=(1, 2)), return_counts=True)\n",
        "print('Min. per image:', unique, '| Count:', count)\n",
        "x_mean = np.mean(x_train, axis=0).astype(np.uint8)\n",
        "plt.figure()\n",
        "plt.tick_params(which='both',\n",
        "                bottom=False, left=False,\n",
        "                labelbottom=False, labelleft=False)\n",
        "plt.imshow(x_mean)\n",
        "plt.show()\n",
        "print('avg. of mean per pixel: %.2f' % np.mean(x_mean))"
      ],
      "execution_count": null,
      "outputs": []
    },
    {
      "cell_type": "code",
      "metadata": {
        "id": "abu80Hm8NvTE"
      },
      "source": [
        "def pre_process(x_train, y_train, x_test, y_test, pp='None'):\n",
        "  y_train_pp = tf.keras.utils.to_categorical(y_train.astype('float32'))\n",
        "  y_test_pp = tf.keras.utils.to_categorical(y_test.astype('float32'))\n",
        "  if pp == 'None':\n",
        "    return x_train, y_train_pp, x_test, y_test_pp\n",
        "  if pp == '255':\n",
        "    return x_train / 255., y_train_pp, x_test / 255., y_test_pp\n",
        "  if pp == 'Samp':\n",
        "    x_train_pp = x_train - np.expand_dims(np.mean(x_train, axis=(1 ,2)),\n",
        "                                          axis=(1, 2))\n",
        "    x_train_pp /= np.expand_dims(np.maximum(np.ones(x_train.shape[0]),\n",
        "                                            np.max(x_train, axis=(1, 2))),\n",
        "                                 axis=(1, 2))\n",
        "    x_test_pp = x_test - np.expand_dims(np.mean(x_test, axis=(1 ,2)),\n",
        "                                        axis=(1, 2))\n",
        "    x_test_pp /= np.expand_dims(np.maximum(np.ones(x_test.shape[0]),\n",
        "                                           np.max(x_test, axis=(1 ,2))),\n",
        "                                axis=(1, 2))\n",
        "    return x_train_pp, y_train_pp, x_test_pp, y_test_pp\n",
        "  raise Exception('Unknown pre-process')"
      ],
      "execution_count": null,
      "outputs": []
    },
    {
      "cell_type": "code",
      "metadata": {
        "id": "03vFAjjsWBf-"
      },
      "source": [
        "xtrain, ytrain, xtest, ytest = pre_process(x_train, y_train, x_test, y_test,\n",
        "                                           pp='255')"
      ],
      "execution_count": null,
      "outputs": []
    },
    {
      "cell_type": "code",
      "metadata": {
        "id": "bSWano43aNB7"
      },
      "source": [
        "print(ytrain.shape)"
      ],
      "execution_count": null,
      "outputs": []
    },
    {
      "cell_type": "code",
      "metadata": {
        "id": "t-uvl5ybp8Wt"
      },
      "source": [
        "print(ytrain[0])"
      ],
      "execution_count": null,
      "outputs": []
    },
    {
      "cell_type": "code",
      "metadata": {
        "id": "w_pselDtWhqe"
      },
      "source": [
        "# FC ANN\n",
        "lin = tf.keras.layers.Input(shape=(28,28))\n",
        "lact =lin\n",
        "lact = tf.keras.layers.Flatten()(lact)\n",
        "lact = tf.keras.layers.Dense(50)(lact)\n",
        "lact = tf.keras.layers.Activation('sigmoid')(lact)\n",
        "lact = tf.keras.layers.Dense(10)(lact)\n",
        "lout = tf.keras.layers.Activation('softmax')(lact)\n",
        "model = tf.keras.Model(lin, lout)\n",
        "model.summary()"
      ],
      "execution_count": null,
      "outputs": []
    },
    {
      "cell_type": "code",
      "metadata": {
        "id": "XzzQb_rcueex"
      },
      "source": [
        "def mish(x):\r\n",
        "  return x*tf.math.tanh(tf.math.softplus(x))\r\n",
        "# CNN ANN\r\n",
        "\r\n",
        "lin = tf.keras.layers.Input(shape=(28,28))\r\n",
        "lact =lin\r\n",
        "lact = tf.keras.layers.Reshape((28,28,1))(lact)\r\n",
        "lact = tf.keras.layers.Conv2D(16, (3,3))(lact)\r\n",
        "lact = tf.keras.layers.Activation(mish)(lact)\r\n",
        "\r\n",
        "lact = tf.keras.layers.MaxPool2D(2)(lact)\r\n",
        "lact = tf.keras.layers.Conv2D(32, (3,3))(lact)\r\n",
        "lact = tf.keras.layers.Activation('sigmoid')(lact)\r\n",
        "#lact = tf.keras.layers.Flatten()(lact)\r\n",
        "lact = tf.keras.layers.GlobalMaxPool2D()(lact)\r\n",
        "lact = tf.keras.layers.Dense(10)(lact)\r\n",
        "lout = tf.keras.layers.Activation('softmax')(lact)\r\n",
        "model = tf.keras.Model(lin, lout)\r\n",
        "model.summary()"
      ],
      "execution_count": null,
      "outputs": []
    },
    {
      "cell_type": "code",
      "metadata": {
        "id": "JkLwRxH5ZPHi"
      },
      "source": [
        "model.compile(optimizer=tf.keras.optimizers.SGD(learning_rate=1e-1),\n",
        "              loss=tf.keras.losses.categorical_crossentropy,\n",
        "              metrics=[tf.keras.metrics.categorical_accuracy])"
      ],
      "execution_count": null,
      "outputs": []
    },
    {
      "cell_type": "code",
      "metadata": {
        "id": "aEW_i6KodFJj"
      },
      "source": [
        "log_dir = 'tb'\n",
        "!rm -Rf {log_dir}\n",
        "%load_ext tensorboard\n",
        "# %reload_ext tensorboard\n",
        "%tensorboard --logdir {log_dir}\n",
        "# !kill 97"
      ],
      "execution_count": null,
      "outputs": []
    },
    {
      "cell_type": "code",
      "metadata": {
        "id": "Ry37jh9hY0tV"
      },
      "source": [
        "cb = list()\n",
        "cb.append(tf.keras.callbacks.TensorBoard(log_dir=log_dir, update_freq='batch'))\n",
        "model.fit(x=xtrain, y=ytrain, batch_size=4000, epochs=600, validation_split=.1,\n",
        "          callbacks=cb, verbose=1)"
      ],
      "execution_count": null,
      "outputs": []
    },
    {
      "cell_type": "code",
      "metadata": {
        "id": "b7zsAYyTTTN4"
      },
      "source": [
        ""
      ],
      "execution_count": null,
      "outputs": []
    }
  ]
}